{
 "cells": [
  {
   "attachments": {},
   "cell_type": "markdown",
   "id": "2f8ea888",
   "metadata": {},
   "source": [
    "## Created by: Prateek Kakkar\n",
    "### Contact : pkakkar@seattleu.edu"
   ]
  },
  {
   "attachments": {},
   "cell_type": "markdown",
   "id": "bc613138",
   "metadata": {
    "id": "bc613138"
   },
   "source": [
    "### Load Libraries"
   ]
  },
  {
   "cell_type": "code",
   "execution_count": 2,
   "id": "1c9bf5fc",
   "metadata": {
    "id": "1c9bf5fc"
   },
   "outputs": [],
   "source": [
    "# !pip install -Uqq fastai\n",
    "# !pip install -Uqq lmfit"
   ]
  },
  {
   "cell_type": "code",
   "execution_count": 4,
   "id": "f5dd9f49",
   "metadata": {
    "id": "f5dd9f49"
   },
   "outputs": [],
   "source": [
    "# !pip install -Uqq torch\n",
    "# !pip install -Uqq fast-tabnet"
   ]
  },
  {
   "cell_type": "code",
   "execution_count": 13,
   "id": "901d836c",
   "metadata": {
    "id": "901d836c"
   },
   "outputs": [],
   "source": [
    "import warnings\n",
    "warnings.filterwarnings('ignore')\n",
    "\n",
    "import pandas as pd\n",
    "import numpy as np\n",
    "\n",
    "# Import the fast ai library\n",
    "from fastai.tabular.all import *\n",
    "\n",
    "import pathlib"
   ]
  },
  {
   "attachments": {},
   "cell_type": "markdown",
   "id": "8e533e73",
   "metadata": {
    "id": "8e533e73"
   },
   "source": [
    "### Load the Data"
   ]
  },
  {
   "cell_type": "code",
   "execution_count": 3,
   "id": "98cf286b",
   "metadata": {
    "id": "98cf286b"
   },
   "outputs": [],
   "source": [
    "Input = pd.read_excel('Input_Variables_2_Predict_UCS.xlsx')"
   ]
  },
  {
   "cell_type": "code",
   "execution_count": 4,
   "id": "41ac2c8c",
   "metadata": {},
   "outputs": [],
   "source": [
    "# Change Data types according the model trained\n",
    "Input['BatchRequiredStrength'] = Input['BatchRequiredStrength'].astype('int')\n",
    "Input['SpecimenAgeTested'] = Input['SpecimenAgeTested'].astype('int')\n",
    "Input['BatchTemperature'] = Input['BatchTemperature'].astype('float')\n",
    "Input['BatchHourMolded'] = Input['BatchHourMolded'].astype('int')\n",
    "Input['BatchMinutesMolded'] = Input['BatchMinutesMolded'].astype('int')\n",
    "Input['SiteLatitude'] = Input['SiteLatitude'].astype('float')\n",
    "Input['SiteLongitude'] = Input['SiteLongitude'].astype('float')\n",
    "Input['StructureNumberLevels'] = Input['StructureNumberLevels'].astype('int')\n",
    "Input['StructureHeight'] = Input['StructureHeight'].astype('float')\n",
    "Input['SiteTemperature'] = Input['SiteTemperature'].astype('float')\n",
    "Input['BatchUnitWeight'] = Input['BatchUnitWeight'].astype('float')"
   ]
  },
  {
   "attachments": {},
   "cell_type": "markdown",
   "id": "pmiS7bV_E4Xx",
   "metadata": {
    "id": "pmiS7bV_E4Xx"
   },
   "source": [
    "### Load the Model and Predict the Results"
   ]
  },
  {
   "cell_type": "code",
   "execution_count": 14,
   "id": "b0d2febf",
   "metadata": {},
   "outputs": [],
   "source": [
    "# Set the Path according to the OS\n",
    "plt = platform.system()\n",
    "if plt == 'Darwin': pathlib.WindowsPath = pathlib.PosixPath\n",
    "elif plt == 'Linux': pathlib.WindowsPath = pathlib.PosixPath\n",
    "elif plt == 'Windows': pathlib.PosixPath = pathlib.WindowsPath"
   ]
  },
  {
   "cell_type": "code",
   "execution_count": 15,
   "id": "ToxCyJJUE2_j",
   "metadata": {
    "colab": {
     "base_uri": "https://localhost:8080/",
     "height": 17
    },
    "id": "ToxCyJJUE2_j",
    "outputId": "39a7b240-976e-4aa1-ca1f-fcbb09860a1d"
   },
   "outputs": [],
   "source": [
    "# load the saved model\n",
    "learn = load_learner('DCE_predictive_model.pkl')\n",
    "\n",
    "# Get the Model's prediction on Test Data\n",
    "test_dl = learn.dls.test_dl(Input)\n",
    "preds, _  = learn.get_preds(dl=test_dl)"
   ]
  },
  {
   "cell_type": "code",
   "execution_count": 18,
   "id": "1c54ec42",
   "metadata": {
    "colab": {
     "base_uri": "https://localhost:8080/",
     "height": 423
    },
    "id": "1c54ec42",
    "outputId": "43aece4f-68a4-4b39-b0df-a915f875a224"
   },
   "outputs": [
    {
     "name": "stdout",
     "output_type": "stream",
     "text": [
      "Export Complete!\n"
     ]
    }
   ],
   "source": [
    "# Export the Results\n",
    "Results = pd.concat([Input\n",
    "           , pd.DataFrame(np.around(np.exp(preds)), columns=['PredictedSpecimenStrength'])], axis=1)\n",
    "\n",
    "Results['PredictedStrengthRatio'] = np.round(Results['PredictedSpecimenStrength'] / Results['BatchRequiredStrength'] , 2)\n",
    "\n",
    "Results.to_csv('PredictionResults.csv', index=False)\n",
    "\n",
    "print(\"Export Complete!\")"
   ]
  },
  {
   "attachments": {},
   "cell_type": "markdown",
   "id": "91c26bff",
   "metadata": {},
   "source": [
    "#### Check PredictionResults.xlsx file in your working directory"
   ]
  }
 ],
 "metadata": {
  "colab": {
   "provenance": []
  },
  "kernelspec": {
   "display_name": "Python 3 (ipykernel)",
   "language": "python",
   "name": "python3"
  },
  "language_info": {
   "codemirror_mode": {
    "name": "ipython",
    "version": 3
   },
   "file_extension": ".py",
   "mimetype": "text/x-python",
   "name": "python",
   "nbconvert_exporter": "python",
   "pygments_lexer": "ipython3",
   "version": "3.9.13"
  }
 },
 "nbformat": 4,
 "nbformat_minor": 5
}
